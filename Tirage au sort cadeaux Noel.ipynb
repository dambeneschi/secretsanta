{
 "cells": [
  {
   "cell_type": "markdown",
   "metadata": {},
   "source": [
    "Tirage au sort aléatoire pour les cadeaux de Noel du réveillon BENESCHI"
   ]
  },
  {
   "cell_type": "code",
   "execution_count": 32,
   "metadata": {
    "scrolled": true
   },
   "outputs": [],
   "source": [
    "import numpy as np\n",
    "import pandas\n",
    "import pyperclip\n",
    "\n",
    "\n",
    "#If the list is taken from a Google spreadsheet\n",
    "def get_list(file):\n",
    "    participants = pandas.read_csv(file, header=None, \n",
    "                                   names=np.array(['Names']), encoding='utf-8')\n",
    "    participants = list(participants['Names'])\n",
    "    return (participants)\n",
    "\n",
    "\n",
    "def secret_santa(participants):\n",
    "    to_pickup = np.array([participants.index(name) for name in participants])  #Int paired with each participant\n",
    "    print(str(len(to_pickup))+' participants')\n",
    "\n",
    "    #Initialisation tirage au sort\n",
    "    pickedup = np.array([])\n",
    "    results = \"\"\n",
    "\n",
    "    np.random.seed(3690)\n",
    "    r = np.random.choice(to_pickup)\n",
    "    print(\"picked-up first: \" + participants[r] + '(' + str(r) + ')' + '\\n')\n",
    "    to_pickup = np.delete(to_pickup, np.where(to_pickup == r))\n",
    "    pickedup = np.append(pickedup, r)\n",
    "\n",
    "    #Who offers to who\n",
    "    for person in to_pickup:  #N-1 tirages au sort pour N participants\n",
    "        r = np.random.choice(to_pickup)\n",
    "        pickedup = np.append(pickedup, r)\n",
    "        to_pickup = np.delete(to_pickup, np.where(to_pickup == r))\n",
    "        results = results + participants[int(pickedup.item(-2))] + ' offers to ' + participants[r] + '\\n'\n",
    "\n",
    "    #Final - results + last picked up offers to first picked-up\n",
    "    results = results + 'And ' + participants[int(pickedup.item(-1))] + ' offers to ' + participants[int(pickedup.item(0))] + '\\n'\n",
    "    print(results)\n",
    "    \n",
    "    #Copy in the clipboard\n",
    "    pyperclip.copy(results)\n",
    "    clipboard = pyperclip.paste()\n",
    "    print('Results of the draw copied in the clipboard')\n"
   ]
  },
  {
   "cell_type": "code",
   "execution_count": 33,
   "metadata": {},
   "outputs": [
    {
     "name": "stdout",
     "output_type": "stream",
     "text": [
      "14 participants\n",
      "picked-up first: Denis(6)\n",
      "\n",
      "<class 'float'>\n",
      "<class 'float'>\n",
      "<class 'float'>\n",
      "<class 'float'>\n",
      "<class 'float'>\n",
      "<class 'float'>\n",
      "<class 'float'>\n",
      "<class 'float'>\n",
      "<class 'float'>\n",
      "<class 'float'>\n",
      "<class 'float'>\n",
      "<class 'float'>\n",
      "<class 'float'>\n",
      "Denis offers to Pascal\n",
      "Pascal offers to Christine\n",
      "Christine offers to Lucas\n",
      "Lucas offers to Maelys\n",
      "Maelys offers to Guy\n",
      "Guy offers to Isabelle\n",
      "Isabelle offers to Julien\n",
      "Julien offers to Damien\n",
      "Damien offers to Josian\n",
      "Josian offers to Clément\n",
      "Clément offers to Katia\n",
      "Katia offers to Gaëlle\n",
      "Gaëlle offers to Maxime\n",
      "And Maxime offers to Denis\n",
      "\n",
      "Results of the draw copied in the clipboard\n"
     ]
    }
   ],
   "source": [
    "participants1 = ['Damien', 'Maxime', 'Guy', 'Christine', 'Clément', 'Gaëlle', 'Denis', \n",
    "                'Katia', 'Maelys', 'Josian', 'Lucas', 'Isabelle', 'Pascal', 'Julien']\n",
    "len(participants1)\n",
    "\n",
    "participants2 = get_list('Secret Santa participants (example) - Feuille 1.csv')\n",
    "\n",
    "secret_santa(participants1)"
   ]
  },
  {
   "cell_type": "code",
   "execution_count": null,
   "metadata": {
    "collapsed": true
   },
   "outputs": [],
   "source": []
  }
 ],
 "metadata": {
  "kernelspec": {
   "display_name": "Python 3",
   "language": "python",
   "name": "python3"
  },
  "language_info": {
   "codemirror_mode": {
    "name": "ipython",
    "version": 3
   },
   "file_extension": ".py",
   "mimetype": "text/x-python",
   "name": "python",
   "nbconvert_exporter": "python",
   "pygments_lexer": "ipython3",
   "version": "3.6.3"
  }
 },
 "nbformat": 4,
 "nbformat_minor": 2
}
